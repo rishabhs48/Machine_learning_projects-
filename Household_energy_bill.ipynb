{
 "cells": [
  {
   "cell_type": "markdown",
   "metadata": {},
   "source": [
    "# PROJECT REGRESSION _PREDICTING MONTHLY ENERGY BILL"
   ]
  },
  {
   "cell_type": "markdown",
   "metadata": {},
   "source": [
    "### Import Libraries"
   ]
  },
  {
   "cell_type": "code",
   "execution_count": 2,
   "metadata": {},
   "outputs": [],
   "source": [
    "\n",
    "import pandas as pd\n",
    "import numpy as np\n",
    "from sklearn.model_selection import train_test_split\n",
    "\n",
    "# Visualisation Libraries\n",
    "import seaborn as sns\n",
    "import matplotlib.pyplot as plt\n",
    "\n",
    "# Scaling\n",
    "from sklearn.preprocessing import StandardScaler\n"
   ]
  },
  {
   "cell_type": "markdown",
   "metadata": {},
   "source": [
    "### Read file "
   ]
  },
  {
   "cell_type": "code",
   "execution_count": 3,
   "metadata": {},
   "outputs": [
    {
     "data": {
      "text/html": [
       "<div>\n",
       "<style scoped>\n",
       "    .dataframe tbody tr th:only-of-type {\n",
       "        vertical-align: middle;\n",
       "    }\n",
       "\n",
       "    .dataframe tbody tr th {\n",
       "        vertical-align: top;\n",
       "    }\n",
       "\n",
       "    .dataframe thead th {\n",
       "        text-align: right;\n",
       "    }\n",
       "</style>\n",
       "<table border=\"1\" class=\"dataframe\">\n",
       "  <thead>\n",
       "    <tr style=\"text-align: right;\">\n",
       "      <th></th>\n",
       "      <th>rooms</th>\n",
       "      <th>people</th>\n",
       "      <th>area</th>\n",
       "      <th>is_ac</th>\n",
       "      <th>is_tv</th>\n",
       "      <th>is_flat</th>\n",
       "      <th>avg_mth_income</th>\n",
       "      <th>num_children</th>\n",
       "      <th>is_urban</th>\n",
       "      <th>amount_paid</th>\n",
       "      <th>month</th>\n",
       "      <th>day</th>\n",
       "      <th>thermsPerDay</th>\n",
       "      <th>kwh</th>\n",
       "      <th>notes</th>\n",
       "    </tr>\n",
       "  </thead>\n",
       "  <tbody>\n",
       "    <tr>\n",
       "      <th>0</th>\n",
       "      <td>3</td>\n",
       "      <td>6</td>\n",
       "      <td>1057.52</td>\n",
       "      <td>1</td>\n",
       "      <td>1</td>\n",
       "      <td>0</td>\n",
       "      <td>16420.09</td>\n",
       "      <td>1</td>\n",
       "      <td>0</td>\n",
       "      <td>525.72</td>\n",
       "      <td>5</td>\n",
       "      <td>23</td>\n",
       "      <td>2.9</td>\n",
       "      <td>1062</td>\n",
       "      <td>NaN</td>\n",
       "    </tr>\n",
       "    <tr>\n",
       "      <th>1</th>\n",
       "      <td>0</td>\n",
       "      <td>3</td>\n",
       "      <td>649.56</td>\n",
       "      <td>1</td>\n",
       "      <td>1</td>\n",
       "      <td>0</td>\n",
       "      <td>24884.65</td>\n",
       "      <td>0</td>\n",
       "      <td>1</td>\n",
       "      <td>653.01</td>\n",
       "      <td>1</td>\n",
       "      <td>7</td>\n",
       "      <td>5.2</td>\n",
       "      <td>605</td>\n",
       "      <td>NaN</td>\n",
       "    </tr>\n",
       "    <tr>\n",
       "      <th>2</th>\n",
       "      <td>3</td>\n",
       "      <td>3</td>\n",
       "      <td>769.77</td>\n",
       "      <td>0</td>\n",
       "      <td>1</td>\n",
       "      <td>0</td>\n",
       "      <td>15884.25</td>\n",
       "      <td>2</td>\n",
       "      <td>0</td>\n",
       "      <td>536.82</td>\n",
       "      <td>9</td>\n",
       "      <td>23</td>\n",
       "      <td>3.2</td>\n",
       "      <td>943</td>\n",
       "      <td>NaN</td>\n",
       "    </tr>\n",
       "    <tr>\n",
       "      <th>3</th>\n",
       "      <td>0</td>\n",
       "      <td>1</td>\n",
       "      <td>557.07</td>\n",
       "      <td>1</td>\n",
       "      <td>1</td>\n",
       "      <td>1</td>\n",
       "      <td>7525.82</td>\n",
       "      <td>1</td>\n",
       "      <td>1</td>\n",
       "      <td>800.11</td>\n",
       "      <td>1</td>\n",
       "      <td>26</td>\n",
       "      <td>7.5</td>\n",
       "      <td>1133</td>\n",
       "      <td>NaN</td>\n",
       "    </tr>\n",
       "    <tr>\n",
       "      <th>4</th>\n",
       "      <td>1</td>\n",
       "      <td>6</td>\n",
       "      <td>725.53</td>\n",
       "      <td>0</td>\n",
       "      <td>1</td>\n",
       "      <td>0</td>\n",
       "      <td>25109.88</td>\n",
       "      <td>3</td>\n",
       "      <td>0</td>\n",
       "      <td>559.74</td>\n",
       "      <td>9</td>\n",
       "      <td>20</td>\n",
       "      <td>3.6</td>\n",
       "      <td>1128</td>\n",
       "      <td>NaN</td>\n",
       "    </tr>\n",
       "  </tbody>\n",
       "</table>\n",
       "</div>"
      ],
      "text/plain": [
       "   rooms  people     area  is_ac  is_tv  is_flat  avg_mth_income  \\\n",
       "0      3       6  1057.52      1      1        0        16420.09   \n",
       "1      0       3   649.56      1      1        0        24884.65   \n",
       "2      3       3   769.77      0      1        0        15884.25   \n",
       "3      0       1   557.07      1      1        1         7525.82   \n",
       "4      1       6   725.53      0      1        0        25109.88   \n",
       "\n",
       "   num_children  is_urban  amount_paid  month  day  thermsPerDay   kwh notes  \n",
       "0             1         0       525.72      5   23           2.9  1062   NaN  \n",
       "1             0         1       653.01      1    7           5.2   605   NaN  \n",
       "2             2         0       536.82      9   23           3.2   943   NaN  \n",
       "3             1         1       800.11      1   26           7.5  1133   NaN  \n",
       "4             3         0       559.74      9   20           3.6  1128   NaN  "
      ]
     },
     "execution_count": 3,
     "metadata": {},
     "output_type": "execute_result"
    }
   ],
   "source": [
    "file = r\"E:\\NIIT\\Project\\mini_project\\1 regression\\household_energy_bill\\household_energy_bill.csv\"\n",
    "data = pd.read_csv(file)\n",
    "data.head()"
   ]
  },
  {
   "cell_type": "code",
   "execution_count": 5,
   "metadata": {},
   "outputs": [
    {
     "data": {
      "text/plain": [
       "(1000, 15)"
      ]
     },
     "execution_count": 5,
     "metadata": {},
     "output_type": "execute_result"
    }
   ],
   "source": [
    "# dimension \n",
    "data.shape\n"
   ]
  },
  {
   "cell_type": "code",
   "execution_count": 6,
   "metadata": {},
   "outputs": [
    {
     "data": {
      "text/plain": [
       "rooms               int64\n",
       "people              int64\n",
       "area              float64\n",
       "is_ac               int64\n",
       "is_tv               int64\n",
       "is_flat             int64\n",
       "avg_mth_income    float64\n",
       "num_children        int64\n",
       "is_urban            int64\n",
       "amount_paid       float64\n",
       "month               int64\n",
       "day                 int64\n",
       "thermsPerDay      float64\n",
       "kwh                 int64\n",
       "notes              object\n",
       "dtype: object"
      ]
     },
     "execution_count": 6,
     "metadata": {},
     "output_type": "execute_result"
    }
   ],
   "source": [
    "#data types \n",
    "data.dtypes\n"
   ]
  },
  {
   "cell_type": "code",
   "execution_count": 7,
   "metadata": {},
   "outputs": [
    {
     "data": {
      "text/html": [
       "<div>\n",
       "<style scoped>\n",
       "    .dataframe tbody tr th:only-of-type {\n",
       "        vertical-align: middle;\n",
       "    }\n",
       "\n",
       "    .dataframe tbody tr th {\n",
       "        vertical-align: top;\n",
       "    }\n",
       "\n",
       "    .dataframe thead th {\n",
       "        text-align: right;\n",
       "    }\n",
       "</style>\n",
       "<table border=\"1\" class=\"dataframe\">\n",
       "  <thead>\n",
       "    <tr style=\"text-align: right;\">\n",
       "      <th></th>\n",
       "      <th>rooms</th>\n",
       "      <th>people</th>\n",
       "      <th>area</th>\n",
       "      <th>is_ac</th>\n",
       "      <th>is_tv</th>\n",
       "      <th>is_flat</th>\n",
       "      <th>avg_mth_income</th>\n",
       "      <th>num_children</th>\n",
       "      <th>is_urban</th>\n",
       "      <th>amount_paid</th>\n",
       "      <th>month</th>\n",
       "      <th>day</th>\n",
       "      <th>thermsPerDay</th>\n",
       "      <th>kwh</th>\n",
       "    </tr>\n",
       "  </thead>\n",
       "  <tbody>\n",
       "    <tr>\n",
       "      <th>mean</th>\n",
       "      <td>1.962000</td>\n",
       "      <td>4.897000</td>\n",
       "      <td>794.703420</td>\n",
       "      <td>0.376000</td>\n",
       "      <td>0.798000</td>\n",
       "      <td>0.477000</td>\n",
       "      <td>24684.986550</td>\n",
       "      <td>1.078000</td>\n",
       "      <td>0.608000</td>\n",
       "      <td>600.396380</td>\n",
       "      <td>6.386000</td>\n",
       "      <td>16.585000</td>\n",
       "      <td>4.350700</td>\n",
       "      <td>656.666000</td>\n",
       "    </tr>\n",
       "    <tr>\n",
       "      <th>std</th>\n",
       "      <td>1.030348</td>\n",
       "      <td>2.007591</td>\n",
       "      <td>147.771736</td>\n",
       "      <td>0.484622</td>\n",
       "      <td>0.401693</td>\n",
       "      <td>0.499721</td>\n",
       "      <td>9678.228224</td>\n",
       "      <td>0.934232</td>\n",
       "      <td>0.488441</td>\n",
       "      <td>181.406178</td>\n",
       "      <td>3.448318</td>\n",
       "      <td>8.931772</td>\n",
       "      <td>2.581655</td>\n",
       "      <td>288.503547</td>\n",
       "    </tr>\n",
       "    <tr>\n",
       "      <th>min</th>\n",
       "      <td>-1.000000</td>\n",
       "      <td>-1.000000</td>\n",
       "      <td>244.400000</td>\n",
       "      <td>0.000000</td>\n",
       "      <td>0.000000</td>\n",
       "      <td>0.000000</td>\n",
       "      <td>-1576.440000</td>\n",
       "      <td>0.000000</td>\n",
       "      <td>0.000000</td>\n",
       "      <td>87.850000</td>\n",
       "      <td>1.000000</td>\n",
       "      <td>1.000000</td>\n",
       "      <td>0.000000</td>\n",
       "      <td>160.000000</td>\n",
       "    </tr>\n",
       "    <tr>\n",
       "      <th>25%</th>\n",
       "      <td>1.000000</td>\n",
       "      <td>4.000000</td>\n",
       "      <td>691.037500</td>\n",
       "      <td>0.000000</td>\n",
       "      <td>1.000000</td>\n",
       "      <td>0.000000</td>\n",
       "      <td>18036.762500</td>\n",
       "      <td>0.000000</td>\n",
       "      <td>0.000000</td>\n",
       "      <td>475.067500</td>\n",
       "      <td>3.000000</td>\n",
       "      <td>9.000000</td>\n",
       "      <td>2.200000</td>\n",
       "      <td>406.750000</td>\n",
       "    </tr>\n",
       "    <tr>\n",
       "      <th>50%</th>\n",
       "      <td>2.000000</td>\n",
       "      <td>5.000000</td>\n",
       "      <td>789.970000</td>\n",
       "      <td>0.000000</td>\n",
       "      <td>1.000000</td>\n",
       "      <td>0.000000</td>\n",
       "      <td>24742.575000</td>\n",
       "      <td>1.000000</td>\n",
       "      <td>1.000000</td>\n",
       "      <td>598.330000</td>\n",
       "      <td>6.000000</td>\n",
       "      <td>17.000000</td>\n",
       "      <td>4.300000</td>\n",
       "      <td>652.000000</td>\n",
       "    </tr>\n",
       "    <tr>\n",
       "      <th>75%</th>\n",
       "      <td>3.000000</td>\n",
       "      <td>6.000000</td>\n",
       "      <td>892.955000</td>\n",
       "      <td>1.000000</td>\n",
       "      <td>1.000000</td>\n",
       "      <td>1.000000</td>\n",
       "      <td>31402.357500</td>\n",
       "      <td>2.000000</td>\n",
       "      <td>1.000000</td>\n",
       "      <td>729.932500</td>\n",
       "      <td>9.000000</td>\n",
       "      <td>25.000000</td>\n",
       "      <td>6.500000</td>\n",
       "      <td>905.000000</td>\n",
       "    </tr>\n",
       "    <tr>\n",
       "      <th>max</th>\n",
       "      <td>5.000000</td>\n",
       "      <td>11.000000</td>\n",
       "      <td>1189.120000</td>\n",
       "      <td>1.000000</td>\n",
       "      <td>1.000000</td>\n",
       "      <td>1.000000</td>\n",
       "      <td>56531.080000</td>\n",
       "      <td>4.000000</td>\n",
       "      <td>1.000000</td>\n",
       "      <td>1102.990000</td>\n",
       "      <td>12.000000</td>\n",
       "      <td>31.000000</td>\n",
       "      <td>9.000000</td>\n",
       "      <td>1156.000000</td>\n",
       "    </tr>\n",
       "  </tbody>\n",
       "</table>\n",
       "</div>"
      ],
      "text/plain": [
       "         rooms     people         area     is_ac     is_tv   is_flat  \\\n",
       "mean  1.962000   4.897000   794.703420  0.376000  0.798000  0.477000   \n",
       "std   1.030348   2.007591   147.771736  0.484622  0.401693  0.499721   \n",
       "min  -1.000000  -1.000000   244.400000  0.000000  0.000000  0.000000   \n",
       "25%   1.000000   4.000000   691.037500  0.000000  1.000000  0.000000   \n",
       "50%   2.000000   5.000000   789.970000  0.000000  1.000000  0.000000   \n",
       "75%   3.000000   6.000000   892.955000  1.000000  1.000000  1.000000   \n",
       "max   5.000000  11.000000  1189.120000  1.000000  1.000000  1.000000   \n",
       "\n",
       "      avg_mth_income  num_children  is_urban  amount_paid      month  \\\n",
       "mean    24684.986550      1.078000  0.608000   600.396380   6.386000   \n",
       "std      9678.228224      0.934232  0.488441   181.406178   3.448318   \n",
       "min     -1576.440000      0.000000  0.000000    87.850000   1.000000   \n",
       "25%     18036.762500      0.000000  0.000000   475.067500   3.000000   \n",
       "50%     24742.575000      1.000000  1.000000   598.330000   6.000000   \n",
       "75%     31402.357500      2.000000  1.000000   729.932500   9.000000   \n",
       "max     56531.080000      4.000000  1.000000  1102.990000  12.000000   \n",
       "\n",
       "            day  thermsPerDay          kwh  \n",
       "mean  16.585000      4.350700   656.666000  \n",
       "std    8.931772      2.581655   288.503547  \n",
       "min    1.000000      0.000000   160.000000  \n",
       "25%    9.000000      2.200000   406.750000  \n",
       "50%   17.000000      4.300000   652.000000  \n",
       "75%   25.000000      6.500000   905.000000  \n",
       "max   31.000000      9.000000  1156.000000  "
      ]
     },
     "execution_count": 7,
     "metadata": {},
     "output_type": "execute_result"
    }
   ],
   "source": [
    "# describe the dataset\n",
    "data.describe()[1:]\n"
   ]
  },
  {
   "cell_type": "code",
   "execution_count": 8,
   "metadata": {},
   "outputs": [
    {
     "data": {
      "text/plain": [
       "rooms               0\n",
       "people              0\n",
       "area                0\n",
       "is_ac               0\n",
       "is_tv               0\n",
       "is_flat             0\n",
       "avg_mth_income      0\n",
       "num_children        0\n",
       "is_urban            0\n",
       "amount_paid         0\n",
       "month               0\n",
       "day                 0\n",
       "thermsPerDay        0\n",
       "kwh                 0\n",
       "notes             985\n",
       "dtype: int64"
      ]
     },
     "execution_count": 8,
     "metadata": {},
     "output_type": "execute_result"
    }
   ],
   "source": [
    "# check for nulls\n",
    "data.isnull().sum()"
   ]
  },
  {
   "cell_type": "code",
   "execution_count": 10,
   "metadata": {},
   "outputs": [
    {
     "data": {
      "text/plain": [
       "rooms              65\n",
       "people             13\n",
       "area                0\n",
       "is_ac             624\n",
       "is_tv             202\n",
       "is_flat           523\n",
       "avg_mth_income      0\n",
       "num_children      316\n",
       "is_urban          392\n",
       "amount_paid         0\n",
       "month               0\n",
       "day                 0\n",
       "thermsPerDay       10\n",
       "kwh                 0\n",
       "notes               0\n",
       "dtype: int64"
      ]
     },
     "execution_count": 10,
     "metadata": {},
     "output_type": "execute_result"
    }
   ],
   "source": [
    "# check for 0\n",
    "data[data==0].count()"
   ]
  },
  {
   "cell_type": "code",
   "execution_count": 11,
   "metadata": {},
   "outputs": [
    {
     "data": {
      "text/plain": [
       "rooms             5\n",
       "people            4\n",
       "area              0\n",
       "is_ac             0\n",
       "is_tv             0\n",
       "is_flat           0\n",
       "avg_mth_income    0\n",
       "num_children      0\n",
       "is_urban          0\n",
       "amount_paid       0\n",
       "month             0\n",
       "day               0\n",
       "thermsPerDay      0\n",
       "kwh               0\n",
       "notes             0\n",
       "dtype: int64"
      ]
     },
     "execution_count": 11,
     "metadata": {},
     "output_type": "execute_result"
    }
   ],
   "source": [
    "data[data==-1].count()"
   ]
  },
  {
   "cell_type": "markdown",
   "metadata": {},
   "source": [
    "### Data preparation"
   ]
  },
  {
   "cell_type": "code",
   "execution_count": 12,
   "metadata": {},
   "outputs": [
    {
     "data": {
      "text/plain": [
       "(907, 15)"
      ]
     },
     "execution_count": 12,
     "metadata": {},
     "output_type": "execute_result"
    }
   ],
   "source": [
    "col_n =['rooms','people','area','avg_mth_income']\n",
    "flt_data = data[~(data[col_n] <= 0).any(axis=1)]\n",
    "flt_data[flt_data==0].count()\n",
    "flt_data.shape"
   ]
  },
  {
   "cell_type": "markdown",
   "metadata": {},
   "source": [
    "## EDA "
   ]
  },
  {
   "cell_type": "code",
   "execution_count": 14,
   "metadata": {},
   "outputs": [
    {
     "name": "stdout",
     "output_type": "stream",
     "text": [
      "\n",
      "\n",
      "rooms \n",
      " 2    0.403528\n",
      "1    0.278942\n",
      "3    0.253583\n",
      "4    0.059537\n",
      "Name: rooms, dtype: float64\n",
      "\n",
      "\n",
      "people \n",
      " 5    0.224917\n",
      "4    0.190739\n",
      "6    0.179713\n",
      "7    0.106946\n",
      "Name: people, dtype: float64\n",
      "\n",
      "\n",
      "area \n",
      " 761.19    0.002205\n",
      "825.89    0.002205\n",
      "631.54    0.002205\n",
      "924.05    0.002205\n",
      "Name: area, dtype: float64\n",
      "\n",
      "\n",
      "is_ac \n",
      " 0    0.624035\n",
      "1    0.375965\n",
      "Name: is_ac, dtype: float64\n",
      "\n",
      "\n",
      "is_tv \n",
      " 1    0.799338\n",
      "0    0.200662\n",
      "Name: is_tv, dtype: float64\n",
      "\n",
      "\n",
      "is_flat \n",
      " 0    0.524807\n",
      "1    0.475193\n",
      "Name: is_flat, dtype: float64\n",
      "\n",
      "\n",
      "avg_mth_income \n",
      " 16420.09    0.001103\n",
      "22204.00    0.001103\n",
      "11903.62    0.001103\n",
      "21299.68    0.001103\n",
      "Name: avg_mth_income, dtype: float64\n",
      "\n",
      "\n",
      "num_children \n",
      " 1    0.371555\n",
      "0    0.319735\n",
      "2    0.238148\n",
      "3    0.065050\n",
      "Name: num_children, dtype: float64\n",
      "\n",
      "\n",
      "is_urban \n",
      " 1    0.605292\n",
      "0    0.394708\n",
      "Name: is_urban, dtype: float64\n",
      "\n",
      "\n",
      "amount_paid \n",
      " 522.84    0.002205\n",
      "692.43    0.002205\n",
      "525.72    0.001103\n",
      "588.25    0.001103\n",
      "Name: amount_paid, dtype: float64\n",
      "\n",
      "\n",
      "month \n",
      " 10    0.099228\n",
      "3     0.094818\n",
      "4     0.093716\n",
      "9     0.091510\n",
      "Name: month, dtype: float64\n",
      "\n",
      "\n",
      "day \n",
      " 27    0.051819\n",
      "25    0.048512\n",
      "24    0.040794\n",
      "9     0.037486\n",
      "Name: day, dtype: float64\n",
      "\n",
      "\n",
      "thermsPerDay \n",
      " 3.3    0.019846\n",
      "2.5    0.018743\n",
      "0.7    0.018743\n",
      "7.1    0.018743\n",
      "Name: thermsPerDay, dtype: float64\n",
      "\n",
      "\n",
      "kwh \n",
      " 804    0.005513\n",
      "691    0.005513\n",
      "201    0.005513\n",
      "989    0.004410\n",
      "Name: kwh, dtype: float64\n",
      "\n",
      "\n",
      "notes \n",
      " N/A        0.983462\n",
      "bill       0.004410\n",
      "elec       0.003308\n",
      "utility    0.002205\n",
      "Name: notes, dtype: float64\n"
     ]
    }
   ],
   "source": [
    "# Singularity check \n",
    "flt_data.isnull().sum()\n",
    "flt_data=flt_data.fillna('N/A')\n",
    "for c in flt_data:\n",
    "    x = flt_data[c].value_counts().head(4)/len(flt_data)\n",
    "    print(\"\\n\")\n",
    "    print(c,\"\\n\",x)"
   ]
  },
  {
   "cell_type": "code",
   "execution_count": 15,
   "metadata": {},
   "outputs": [
    {
     "data": {
      "text/html": [
       "<div>\n",
       "<style scoped>\n",
       "    .dataframe tbody tr th:only-of-type {\n",
       "        vertical-align: middle;\n",
       "    }\n",
       "\n",
       "    .dataframe tbody tr th {\n",
       "        vertical-align: top;\n",
       "    }\n",
       "\n",
       "    .dataframe thead th {\n",
       "        text-align: right;\n",
       "    }\n",
       "</style>\n",
       "<table border=\"1\" class=\"dataframe\">\n",
       "  <thead>\n",
       "    <tr style=\"text-align: right;\">\n",
       "      <th></th>\n",
       "      <th>rooms</th>\n",
       "      <th>people</th>\n",
       "      <th>area</th>\n",
       "      <th>is_ac</th>\n",
       "      <th>is_tv</th>\n",
       "      <th>is_flat</th>\n",
       "      <th>avg_mth_income</th>\n",
       "      <th>num_children</th>\n",
       "      <th>is_urban</th>\n",
       "      <th>amount_paid</th>\n",
       "      <th>month</th>\n",
       "      <th>day</th>\n",
       "      <th>thermsPerDay</th>\n",
       "      <th>kwh</th>\n",
       "    </tr>\n",
       "  </thead>\n",
       "  <tbody>\n",
       "    <tr>\n",
       "      <th>0</th>\n",
       "      <td>3</td>\n",
       "      <td>6</td>\n",
       "      <td>1057.52</td>\n",
       "      <td>1</td>\n",
       "      <td>1</td>\n",
       "      <td>0</td>\n",
       "      <td>16420.09</td>\n",
       "      <td>1</td>\n",
       "      <td>0</td>\n",
       "      <td>525.72</td>\n",
       "      <td>5</td>\n",
       "      <td>23</td>\n",
       "      <td>2.9</td>\n",
       "      <td>1062</td>\n",
       "    </tr>\n",
       "    <tr>\n",
       "      <th>2</th>\n",
       "      <td>3</td>\n",
       "      <td>3</td>\n",
       "      <td>769.77</td>\n",
       "      <td>0</td>\n",
       "      <td>1</td>\n",
       "      <td>0</td>\n",
       "      <td>15884.25</td>\n",
       "      <td>2</td>\n",
       "      <td>0</td>\n",
       "      <td>536.82</td>\n",
       "      <td>9</td>\n",
       "      <td>23</td>\n",
       "      <td>3.2</td>\n",
       "      <td>943</td>\n",
       "    </tr>\n",
       "    <tr>\n",
       "      <th>4</th>\n",
       "      <td>1</td>\n",
       "      <td>6</td>\n",
       "      <td>725.53</td>\n",
       "      <td>0</td>\n",
       "      <td>1</td>\n",
       "      <td>0</td>\n",
       "      <td>25109.88</td>\n",
       "      <td>3</td>\n",
       "      <td>0</td>\n",
       "      <td>559.74</td>\n",
       "      <td>9</td>\n",
       "      <td>20</td>\n",
       "      <td>3.6</td>\n",
       "      <td>1128</td>\n",
       "    </tr>\n",
       "    <tr>\n",
       "      <th>5</th>\n",
       "      <td>1</td>\n",
       "      <td>4</td>\n",
       "      <td>893.34</td>\n",
       "      <td>0</td>\n",
       "      <td>0</td>\n",
       "      <td>1</td>\n",
       "      <td>37558.92</td>\n",
       "      <td>1</td>\n",
       "      <td>0</td>\n",
       "      <td>434.31</td>\n",
       "      <td>9</td>\n",
       "      <td>2</td>\n",
       "      <td>1.5</td>\n",
       "      <td>1098</td>\n",
       "    </tr>\n",
       "    <tr>\n",
       "      <th>6</th>\n",
       "      <td>1</td>\n",
       "      <td>4</td>\n",
       "      <td>802.95</td>\n",
       "      <td>0</td>\n",
       "      <td>1</td>\n",
       "      <td>0</td>\n",
       "      <td>47110.28</td>\n",
       "      <td>1</td>\n",
       "      <td>0</td>\n",
       "      <td>410.31</td>\n",
       "      <td>10</td>\n",
       "      <td>25</td>\n",
       "      <td>1.2</td>\n",
       "      <td>844</td>\n",
       "    </tr>\n",
       "  </tbody>\n",
       "</table>\n",
       "</div>"
      ],
      "text/plain": [
       "   rooms  people     area  is_ac  is_tv  is_flat  avg_mth_income  \\\n",
       "0      3       6  1057.52      1      1        0        16420.09   \n",
       "2      3       3   769.77      0      1        0        15884.25   \n",
       "4      1       6   725.53      0      1        0        25109.88   \n",
       "5      1       4   893.34      0      0        1        37558.92   \n",
       "6      1       4   802.95      0      1        0        47110.28   \n",
       "\n",
       "   num_children  is_urban  amount_paid  month  day  thermsPerDay   kwh  \n",
       "0             1         0       525.72      5   23           2.9  1062  \n",
       "2             2         0       536.82      9   23           3.2   943  \n",
       "4             3         0       559.74      9   20           3.6  1128  \n",
       "5             1         0       434.31      9    2           1.5  1098  \n",
       "6             1         0       410.31     10   25           1.2   844  "
      ]
     },
     "execution_count": 15,
     "metadata": {},
     "output_type": "execute_result"
    }
   ],
   "source": [
    "# 'NOTES' column has singularity hence drop \n",
    "flt_data.drop(columns=[\"notes\"],inplace= True)\n",
    "flt_data.head()"
   ]
  },
  {
   "cell_type": "code",
   "execution_count": 16,
   "metadata": {},
   "outputs": [],
   "source": [
    "# Extract the target variable 'y' from the dataset\n",
    "# Separate 'y' variable from the dataset\n",
    "flt_data.dtypes\n",
    "y = flt_data['amount_paid']\n",
    "X = flt_data.drop('amount_paid', axis=1)"
   ]
  },
  {
   "cell_type": "code",
   "execution_count": 17,
   "metadata": {},
   "outputs": [],
   "source": [
    "# Standardize the remaining variables\n",
    "scaler = StandardScaler()\n",
    "X_std = scaler.fit_transform(X)"
   ]
  },
  {
   "cell_type": "code",
   "execution_count": 18,
   "metadata": {},
   "outputs": [
    {
     "data": {
      "text/plain": [
       "rooms             0\n",
       "people            0\n",
       "area              0\n",
       "is_ac             0\n",
       "is_tv             0\n",
       "is_flat           0\n",
       "avg_mth_income    0\n",
       "num_children      0\n",
       "is_urban          0\n",
       "month             0\n",
       "day               0\n",
       "thermsPerDay      0\n",
       "kwh               0\n",
       "amount_paid       0\n",
       "dtype: int64"
      ]
     },
     "execution_count": 18,
     "metadata": {},
     "output_type": "execute_result"
    }
   ],
   "source": [
    "# Combine standardized variables with 'y'\n",
    "final_data = pd.DataFrame(X_std, columns=X.columns)\n",
    "final_data['amount_paid'] = list(y)\n",
    "final_data.isnull().sum()"
   ]
  },
  {
   "cell_type": "code",
   "execution_count": 19,
   "metadata": {},
   "outputs": [
    {
     "data": {
      "text/plain": [
       "array(['rooms', 'people', 'area', 'is_ac', 'is_tv', 'is_flat',\n",
       "       'avg_mth_income', 'num_children', 'is_urban', 'thermsPerDay',\n",
       "       'kwh', 'amount_paid'], dtype=object)"
      ]
     },
     "execution_count": 19,
     "metadata": {},
     "output_type": "execute_result"
    }
   ],
   "source": [
    "# DROP day and month \n",
    "final_data.drop(columns=[\"day\",\"month\"],inplace= True)\n",
    "nc = final_data.select_dtypes(exclude=['object','category']).columns.values;nc"
   ]
  },
  {
   "cell_type": "code",
   "execution_count": 21,
   "metadata": {},
   "outputs": [
    {
     "data": {
      "image/png": "[encoded data removed]",
      "text/plain": [
       "<Figure size 2000x1500 with 2 Axes>"
      ]
     },
     "metadata": {},
     "output_type": "display_data"
    }
   ],
   "source": [
    "# Multicollinearity Check\n",
    "def plotData(df,nc,ptype):\n",
    "    \n",
    "    if (ptype == \"c\"):\n",
    "        plt.subplots(figsize=(20,15))\n",
    "        cor = round(df[nc].corr(),1) # create the correlation matrix \n",
    "        mask = np.triu(np.ones_like(cor, dtype=bool))\n",
    "        sns.heatmap(cor,cmap=\"YlGnBu\",center=0, annot=True,vmin=-1,fmt='.2f',vmax=1,linecolor='w',square=True,mask=mask)\n",
    "    \n",
    "    if (ptype in [\"b\",\"h\"]):\n",
    "        R=5; C=2; P=1\n",
    "        \n",
    "        fig = plt.figure()\n",
    "        for c in nc:\n",
    "            fig.add_subplot(R,C,P)\n",
    "            if (ptype==\"b\"):\n",
    "                df.boxplot(column=c,vert=False)\n",
    "            else:\n",
    "                sns.distplot(df[c])\n",
    "            P+=1\n",
    "plotData(flt_data,nc,\"c\") # plot heatmap"
   ]
  },
  {
   "cell_type": "code",
   "execution_count": 23,
   "metadata": {},
   "outputs": [
    {
     "name": "stdout",
     "output_type": "stream",
     "text": [
      "trainx=(725, 11),trainy=(725,),testx=(182, 11),testy=(182,)\n"
     ]
    },
    {
     "name": "stderr",
     "output_type": "stream",
     "text": [
      "C:\\Users\\Rishabh\\AppData\\Local\\Temp\\ipykernel_16404\\1137975251.py:3: FutureWarning: In a future version of pandas all arguments of DataFrame.drop except for the argument 'labels' will be keyword-only.\n",
      "  trainx,testx,trainy,testy = train_test_split(final_data.drop(y,1),\n"
     ]
    }
   ],
   "source": [
    "#Split the data into train and test\n",
    "y = \"amount_paid\"  \n",
    "trainx,testx,trainy,testy = train_test_split(final_data.drop(y,1),\n",
    "                                             final_data[y],\n",
    "                                             test_size =0.2,random_state=(42))\n",
    "print(\"trainx={},trainy={},testx={},testy={}\".format(trainx.shape, trainy.shape,testx.shape,testy.shape))"
   ]
  },
  {
   "cell_type": "markdown",
   "metadata": {},
   "source": [
    "## ----------- LINEAR REGRESSION MODEL"
   ]
  },
  {
   "cell_type": "code",
   "execution_count": 24,
   "metadata": {},
   "outputs": [
    {
     "data": {
      "text/html": [
       "<style>#sk-container-id-1 {color: black;background-color: white;}#sk-container-id-1 pre{padding: 0;}#sk-container-id-1 div.sk-toggleable {background-color: white;}#sk-container-id-1 label.sk-toggleable__label {cursor: pointer;display: block;width: 100%;margin-bottom: 0;padding: 0.3em;box-sizing: border-box;text-align: center;}#sk-container-id-1 label.sk-toggleable__label-arrow:before {content: \"▸\";float: left;margin-right: 0.25em;color: #696969;}#sk-container-id-1 label.sk-toggleable__label-arrow:hover:before {color: black;}#sk-container-id-1 div.sk-estimator:hover label.sk-toggleable__label-arrow:before {color: black;}#sk-container-id-1 div.sk-toggleable__content {max-height: 0;max-width: 0;overflow: hidden;text-align: left;background-color: #f0f8ff;}#sk-container-id-1 div.sk-toggleable__content pre {margin: 0.2em;color: black;border-radius: 0.25em;background-color: #f0f8ff;}#sk-container-id-1 input.sk-toggleable__control:checked~div.sk-toggleable__content {max-height: 200px;max-width: 100%;overflow: auto;}#sk-container-id-1 input.sk-toggleable__control:checked~label.sk-toggleable__label-arrow:before {content: \"▾\";}#sk-container-id-1 div.sk-estimator input.sk-toggleable__control:checked~label.sk-toggleable__label {background-color: #d4ebff;}#sk-container-id-1 div.sk-label input.sk-toggleable__control:checked~label.sk-toggleable__label {background-color: #d4ebff;}#sk-container-id-1 input.sk-hidden--visually {border: 0;clip: rect(1px 1px 1px 1px);clip: rect(1px, 1px, 1px, 1px);height: 1px;margin: -1px;overflow: hidden;padding: 0;position: absolute;width: 1px;}#sk-container-id-1 div.sk-estimator {font-family: monospace;background-color: #f0f8ff;border: 1px dotted black;border-radius: 0.25em;box-sizing: border-box;margin-bottom: 0.5em;}#sk-container-id-1 div.sk-estimator:hover {background-color: #d4ebff;}#sk-container-id-1 div.sk-parallel-item::after {content: \"\";width: 100%;border-bottom: 1px solid gray;flex-grow: 1;}#sk-container-id-1 div.sk-label:hover label.sk-toggleable__label {background-color: #d4ebff;}#sk-container-id-1 div.sk-serial::before {content: \"\";position: absolute;border-left: 1px solid gray;box-sizing: border-box;top: 0;bottom: 0;left: 50%;z-index: 0;}#sk-container-id-1 div.sk-serial {display: flex;flex-direction: column;align-items: center;background-color: white;padding-right: 0.2em;padding-left: 0.2em;position: relative;}#sk-container-id-1 div.sk-item {position: relative;z-index: 1;}#sk-container-id-1 div.sk-parallel {display: flex;align-items: stretch;justify-content: center;background-color: white;position: relative;}#sk-container-id-1 div.sk-item::before, #sk-container-id-1 div.sk-parallel-item::before {content: \"\";position: absolute;border-left: 1px solid gray;box-sizing: border-box;top: 0;bottom: 0;left: 50%;z-index: -1;}#sk-container-id-1 div.sk-parallel-item {display: flex;flex-direction: column;z-index: 1;position: relative;background-color: white;}#sk-container-id-1 div.sk-parallel-item:first-child::after {align-self: flex-end;width: 50%;}#sk-container-id-1 div.sk-parallel-item:last-child::after {align-self: flex-start;width: 50%;}#sk-container-id-1 div.sk-parallel-item:only-child::after {width: 0;}#sk-container-id-1 div.sk-dashed-wrapped {border: 1px dashed gray;margin: 0 0.4em 0.5em 0.4em;box-sizing: border-box;padding-bottom: 0.4em;background-color: white;}#sk-container-id-1 div.sk-label label {font-family: monospace;font-weight: bold;display: inline-block;line-height: 1.2em;}#sk-container-id-1 div.sk-label-container {text-align: center;}#sk-container-id-1 div.sk-container {/* jupyter's `normalize.less` sets `[hidden] { display: none; }` but bootstrap.min.css set `[hidden] { display: none !important; }` so we also need the `!important` here to be able to override the default hidden behavior on the sphinx rendered scikit-learn.org. See: https://github.com/scikit-learn/scikit-learn/issues/21755 */display: inline-block !important;position: relative;}#sk-container-id-1 div.sk-text-repr-fallback {display: none;}</style><div id=\"sk-container-id-1\" class=\"sk-top-container\"><div class=\"sk-text-repr-fallback\"><pre>LinearRegression()</pre><b>In a Jupyter environment, please rerun this cell to show the HTML representation or trust the notebook. <br />On GitHub, the HTML representation is unable to render, please try loading this page with nbviewer.org.</b></div><div class=\"sk-container\" hidden><div class=\"sk-item\"><div class=\"sk-estimator sk-toggleable\"><input class=\"sk-toggleable__control sk-hidden--visually\" id=\"sk-estimator-id-1\" type=\"checkbox\" checked><label for=\"sk-estimator-id-1\" class=\"sk-toggleable__label sk-toggleable__label-arrow\">LinearRegression</label><div class=\"sk-toggleable__content\"><pre>LinearRegression()</pre></div></div></div></div></div>"
      ],
      "text/plain": [
       "LinearRegression()"
      ]
     },
     "execution_count": 24,
     "metadata": {},
     "output_type": "execute_result"
    }
   ],
   "source": [
    "from sklearn.linear_model import LinearRegression\n",
    "\n",
    "# Create linear regression model\n",
    "model1 = LinearRegression()\n",
    "model1.fit(trainx, trainy)"
   ]
  },
  {
   "cell_type": "code",
   "execution_count": 26,
   "metadata": {},
   "outputs": [
    {
     "name": "stdout",
     "output_type": "stream",
     "text": [
      "     actual_amount_paid_LR  pred_amount_paid_LR\n",
      "868                 836.69           858.981847\n",
      "439                 576.22           561.935595\n",
      "342                 783.05           776.843056\n",
      "735                 756.65           745.426606\n",
      "784                 637.12           658.873438\n",
      "836                 716.90           714.533407\n",
      "522                 682.41           703.656033\n",
      "265                 605.25           612.195285\n",
      "902                 495.18           471.389322\n",
      "539                 746.10           762.942509\n"
     ]
    }
   ],
   "source": [
    "# Predict 'amount_paid' for the test data\n",
    "pred_LR = model1.predict(testx)\n",
    "# evaluate the LR model and check actual vs predicted mpg\n",
    "res_LR = pd.DataFrame({'actual_amount_paid_LR':testy,'pred_amount_paid_LR':pred_LR})\n",
    "print(res_LR.head(10)) "
   ]
  },
  {
   "cell_type": "code",
   "execution_count": 27,
   "metadata": {},
   "outputs": [
    {
     "name": "stdout",
     "output_type": "stream",
     "text": [
      "Model=LR:Model_lR. sse=154176.603,mse=847.124,rmse=29.105\n"
     ]
    }
   ],
   "source": [
    "# MLR errors\n",
    "sse = round(sum(np.power(np.array(res_LR.actual_amount_paid_LR.values) - np.array(res_LR.pred_amount_paid_LR.values), 2)), 3) # sum of squared error\n",
    "mse = round(sse / len(res_LR),3) # mean squared error\n",
    "rmse = round(np.sqrt(mse),3) # root mean squared error\n",
    "print(\"Model=LR:Model_lR. sse={},mse={},rmse={}\".format(sse,mse,rmse))"
   ]
  },
  {
   "cell_type": "code",
   "execution_count": 28,
   "metadata": {},
   "outputs": [
    {
     "data": {
      "text/html": [
       "<style>#sk-container-id-2 {color: black;background-color: white;}#sk-container-id-2 pre{padding: 0;}#sk-container-id-2 div.sk-toggleable {background-color: white;}#sk-container-id-2 label.sk-toggleable__label {cursor: pointer;display: block;width: 100%;margin-bottom: 0;padding: 0.3em;box-sizing: border-box;text-align: center;}#sk-container-id-2 label.sk-toggleable__label-arrow:before {content: \"▸\";float: left;margin-right: 0.25em;color: #696969;}#sk-container-id-2 label.sk-toggleable__label-arrow:hover:before {color: black;}#sk-container-id-2 div.sk-estimator:hover label.sk-toggleable__label-arrow:before {color: black;}#sk-container-id-2 div.sk-toggleable__content {max-height: 0;max-width: 0;overflow: hidden;text-align: left;background-color: #f0f8ff;}#sk-container-id-2 div.sk-toggleable__content pre {margin: 0.2em;color: black;border-radius: 0.25em;background-color: #f0f8ff;}#sk-container-id-2 input.sk-toggleable__control:checked~div.sk-toggleable__content {max-height: 200px;max-width: 100%;overflow: auto;}#sk-container-id-2 input.sk-toggleable__control:checked~label.sk-toggleable__label-arrow:before {content: \"▾\";}#sk-container-id-2 div.sk-estimator input.sk-toggleable__control:checked~label.sk-toggleable__label {background-color: #d4ebff;}#sk-container-id-2 div.sk-label input.sk-toggleable__control:checked~label.sk-toggleable__label {background-color: #d4ebff;}#sk-container-id-2 input.sk-hidden--visually {border: 0;clip: rect(1px 1px 1px 1px);clip: rect(1px, 1px, 1px, 1px);height: 1px;margin: -1px;overflow: hidden;padding: 0;position: absolute;width: 1px;}#sk-container-id-2 div.sk-estimator {font-family: monospace;background-color: #f0f8ff;border: 1px dotted black;border-radius: 0.25em;box-sizing: border-box;margin-bottom: 0.5em;}#sk-container-id-2 div.sk-estimator:hover {background-color: #d4ebff;}#sk-container-id-2 div.sk-parallel-item::after {content: \"\";width: 100%;border-bottom: 1px solid gray;flex-grow: 1;}#sk-container-id-2 div.sk-label:hover label.sk-toggleable__label {background-color: #d4ebff;}#sk-container-id-2 div.sk-serial::before {content: \"\";position: absolute;border-left: 1px solid gray;box-sizing: border-box;top: 0;bottom: 0;left: 50%;z-index: 0;}#sk-container-id-2 div.sk-serial {display: flex;flex-direction: column;align-items: center;background-color: white;padding-right: 0.2em;padding-left: 0.2em;position: relative;}#sk-container-id-2 div.sk-item {position: relative;z-index: 1;}#sk-container-id-2 div.sk-parallel {display: flex;align-items: stretch;justify-content: center;background-color: white;position: relative;}#sk-container-id-2 div.sk-item::before, #sk-container-id-2 div.sk-parallel-item::before {content: \"\";position: absolute;border-left: 1px solid gray;box-sizing: border-box;top: 0;bottom: 0;left: 50%;z-index: -1;}#sk-container-id-2 div.sk-parallel-item {display: flex;flex-direction: column;z-index: 1;position: relative;background-color: white;}#sk-container-id-2 div.sk-parallel-item:first-child::after {align-self: flex-end;width: 50%;}#sk-container-id-2 div.sk-parallel-item:last-child::after {align-self: flex-start;width: 50%;}#sk-container-id-2 div.sk-parallel-item:only-child::after {width: 0;}#sk-container-id-2 div.sk-dashed-wrapped {border: 1px dashed gray;margin: 0 0.4em 0.5em 0.4em;box-sizing: border-box;padding-bottom: 0.4em;background-color: white;}#sk-container-id-2 div.sk-label label {font-family: monospace;font-weight: bold;display: inline-block;line-height: 1.2em;}#sk-container-id-2 div.sk-label-container {text-align: center;}#sk-container-id-2 div.sk-container {/* jupyter's `normalize.less` sets `[hidden] { display: none; }` but bootstrap.min.css set `[hidden] { display: none !important; }` so we also need the `!important` here to be able to override the default hidden behavior on the sphinx rendered scikit-learn.org. See: https://github.com/scikit-learn/scikit-learn/issues/21755 */display: inline-block !important;position: relative;}#sk-container-id-2 div.sk-text-repr-fallback {display: none;}</style><div id=\"sk-container-id-2\" class=\"sk-top-container\"><div class=\"sk-text-repr-fallback\"><pre>GridSearchCV(cv=RepeatedKFold(n_repeats=3, n_splits=10, random_state=42),\n",
       "             estimator=RandomForestRegressor(), n_jobs=-1,\n",
       "             param_grid={&#x27;max_depth&#x27;: array([ 2,  3,  4,  5,  6,  7,  8,  9, 10]),\n",
       "                         &#x27;max_features&#x27;: array([2, 3, 4, 5]),\n",
       "                         &#x27;n_estimators&#x27;: array([ 5, 10, 15, 20, 25, 30])},\n",
       "             scoring=&#x27;neg_mean_squared_error&#x27;)</pre><b>In a Jupyter environment, please rerun this cell to show the HTML representation or trust the notebook. <br />On GitHub, the HTML representation is unable to render, please try loading this page with nbviewer.org.</b></div><div class=\"sk-container\" hidden><div class=\"sk-item sk-dashed-wrapped\"><div class=\"sk-label-container\"><div class=\"sk-label sk-toggleable\"><input class=\"sk-toggleable__control sk-hidden--visually\" id=\"sk-estimator-id-2\" type=\"checkbox\" ><label for=\"sk-estimator-id-2\" class=\"sk-toggleable__label sk-toggleable__label-arrow\">GridSearchCV</label><div class=\"sk-toggleable__content\"><pre>GridSearchCV(cv=RepeatedKFold(n_repeats=3, n_splits=10, random_state=42),\n",
       "             estimator=RandomForestRegressor(), n_jobs=-1,\n",
       "             param_grid={&#x27;max_depth&#x27;: array([ 2,  3,  4,  5,  6,  7,  8,  9, 10]),\n",
       "                         &#x27;max_features&#x27;: array([2, 3, 4, 5]),\n",
       "                         &#x27;n_estimators&#x27;: array([ 5, 10, 15, 20, 25, 30])},\n",
       "             scoring=&#x27;neg_mean_squared_error&#x27;)</pre></div></div></div><div class=\"sk-parallel\"><div class=\"sk-parallel-item\"><div class=\"sk-item\"><div class=\"sk-label-container\"><div class=\"sk-label sk-toggleable\"><input class=\"sk-toggleable__control sk-hidden--visually\" id=\"sk-estimator-id-3\" type=\"checkbox\" ><label for=\"sk-estimator-id-3\" class=\"sk-toggleable__label sk-toggleable__label-arrow\">estimator: RandomForestRegressor</label><div class=\"sk-toggleable__content\"><pre>RandomForestRegressor()</pre></div></div></div><div class=\"sk-serial\"><div class=\"sk-item\"><div class=\"sk-estimator sk-toggleable\"><input class=\"sk-toggleable__control sk-hidden--visually\" id=\"sk-estimator-id-4\" type=\"checkbox\" ><label for=\"sk-estimator-id-4\" class=\"sk-toggleable__label sk-toggleable__label-arrow\">RandomForestRegressor</label><div class=\"sk-toggleable__content\"><pre>RandomForestRegressor()</pre></div></div></div></div></div></div></div></div></div></div>"
      ],
      "text/plain": [
       "GridSearchCV(cv=RepeatedKFold(n_repeats=3, n_splits=10, random_state=42),\n",
       "             estimator=RandomForestRegressor(), n_jobs=-1,\n",
       "             param_grid={'max_depth': array([ 2,  3,  4,  5,  6,  7,  8,  9, 10]),\n",
       "                         'max_features': array([2, 3, 4, 5]),\n",
       "                         'n_estimators': array([ 5, 10, 15, 20, 25, 30])},\n",
       "             scoring='neg_mean_squared_error')"
      ]
     },
     "execution_count": 28,
     "metadata": {},
     "output_type": "execute_result"
    }
   ],
   "source": [
    "\n",
    "#--------------Random forest model \n",
    "from sklearn.ensemble import RandomForestRegressor as rfr\n",
    "from sklearn.model_selection import GridSearchCV\n",
    "from sklearn.model_selection import RepeatedKFold\n",
    "m_rf = rfr()\n",
    "cv = RepeatedKFold(n_splits=10, n_repeats=3, random_state=42)\n",
    "params = {'n_estimators':np.arange(5,31,5),\n",
    "          'max_depth': np.arange(2,11),\n",
    "          'max_features': np.arange(2,6)}\n",
    "\n",
    "grid_search = GridSearchCV(estimator=m_rf, param_grid=params, scoring='neg_mean_squared_error', cv=cv, n_jobs=-1)\n",
    "grid_search.fit(trainx, trainy)"
   ]
  },
  {
   "cell_type": "code",
   "execution_count": 29,
   "metadata": {},
   "outputs": [
    {
     "name": "stdout",
     "output_type": "stream",
     "text": [
      "     actual_amount_paid_RF  pred_amount_paid_RF\n",
      "868                 836.69           825.102448\n",
      "439                 576.22           575.798783\n",
      "342                 783.05           771.776001\n",
      "735                 756.65           746.311049\n",
      "784                 637.12           639.466733\n",
      "836                 716.90           711.658645\n",
      "522                 682.41           706.413661\n",
      "265                 605.25           587.187698\n",
      "902                 495.18           495.752334\n",
      "539                 746.10           729.809250\n"
     ]
    }
   ],
   "source": [
    "# Get the best model with the optimized hyperparameters\n",
    "best_model = grid_search.best_estimator_\n",
    "pred_RF = best_model.predict(testx)\n",
    "# evaluate the LR model and check actual vs predicted mpg\n",
    "res_RF = pd.DataFrame({'actual_amount_paid_RF':testy,'pred_amount_paid_RF':pred_RF})\n",
    "print(res_RF.head(10)) "
   ]
  },
  {
   "cell_type": "code",
   "execution_count": 30,
   "metadata": {},
   "outputs": [
    {
     "name": "stdout",
     "output_type": "stream",
     "text": [
      "Model=RF:Model_RF. sse1=40079.74,mse1=220.218,rmse1=14.84\n"
     ]
    }
   ],
   "source": [
    "# MLR errors\n",
    "sse1 = round(sum(np.power(np.array(res_RF.actual_amount_paid_RF.values) - np.array(res_RF.pred_amount_paid_RF.values), 2)), 3) # sum of squared error\n",
    "mse1 = round(sse1 / len(res_RF),3) # mean squared error\n",
    "rmse1 = round(np.sqrt(mse1),3) # root mean squared error\n",
    "print(\"Model=RF:Model_RF. sse1={},mse1={},rmse1={}\".format(sse1,mse1,rmse1))"
   ]
  },
  {
   "cell_type": "markdown",
   "metadata": {},
   "source": [
    "## ------------ Model Ensemble \n",
    "## ------------ Abr & RF as base model where as LR as meta model"
   ]
  },
  {
   "cell_type": "code",
   "execution_count": 31,
   "metadata": {},
   "outputs": [],
   "source": [
    "\n",
    "from sklearn.ensemble import RandomForestRegressor as rfr\n",
    "from sklearn.ensemble import AdaBoostRegressor as abr\n",
    "from sklearn.ensemble import StackingRegressor\n",
    "\n",
    "def StackModels():\n",
    "    \n",
    "    # define the base models\n",
    "    lst_basemodels = []\n",
    "    lst_basemodels.append(('ABR',abr(n_estimators=50))) # adaboost\n",
    "    lst_basemodels.append(('RF',rfr(n_estimators=50))) # random forest\n",
    "    \n",
    "    # Meta model\n",
    "    metamodel = LinearRegression()\n",
    "    \n",
    "    # Stacking Classifier model\n",
    "    stackmodel = StackingRegressor(estimators=lst_basemodels,final_estimator=metamodel,\n",
    "                               cv=3)\n",
    "    \n",
    "    return (lst_basemodels,metamodel,stackmodel)"
   ]
  },
  {
   "cell_type": "code",
   "execution_count": 32,
   "metadata": {},
   "outputs": [],
   "source": [
    "# Run the function \n",
    "m_base, m_meta, m_stack = StackModels()\n",
    "\n",
    "# Build the stack model to predict \n",
    "modelStack = m_stack.fit(trainx, trainy)\n",
    "# Predict on test data\n",
    "predStack = modelStack.predict(testx)"
   ]
  },
  {
   "cell_type": "code",
   "execution_count": 33,
   "metadata": {},
   "outputs": [
    {
     "name": "stdout",
     "output_type": "stream",
     "text": [
      "     actual_amount_paid_ST  pred_amount_paid_ST\n",
      "868                 836.69           833.906940\n",
      "439                 576.22           574.300031\n",
      "342                 783.05           782.659981\n",
      "735                 756.65           761.951590\n",
      "784                 637.12           637.267673\n",
      "836                 716.90           717.604756\n",
      "522                 682.41           680.525224\n",
      "265                 605.25           603.179250\n",
      "902                 495.18           501.254980\n",
      "539                 746.10           748.663586\n",
      "Model=Stack:m_stack. sse=14860.049,mse=81.649,rmse=9.036\n"
     ]
    }
   ],
   "source": [
    "# evaluate the MLR model and check actual vs predicted mpg\n",
    "report_stack = pd.DataFrame({'actual_amount_paid_ST':testy,'pred_amount_paid_ST':predStack})\n",
    "print(report_stack.head(10))\n",
    "\n",
    "# MLR errors\n",
    "sse2 = round(sum(np.power(np.array(report_stack.actual_amount_paid_ST.values) - np.array(report_stack.pred_amount_paid_ST.values),2)),3) # sum of squared error\n",
    "mse2 = round(sse2 / len(report_stack),3) # mean squared error\n",
    "rmse2 = round(np.sqrt(mse2),3) # root mean squared error\n",
    "print(\"Model=Stack:m_stack. sse={},mse={},rmse={}\".format(sse2,mse2,rmse2))"
   ]
  },
  {
   "cell_type": "code",
   "execution_count": 34,
   "metadata": {},
   "outputs": [
    {
     "name": "stdout",
     "output_type": "stream",
     "text": [
      "+-------------+----------+---------+--------+\n",
      "| MODEL       |      SSE |     MSE |   RMSE |\n",
      "+=============+==========+=========+========+\n",
      "| M1_LR       | 154177   | 847.124 | 29.105 |\n",
      "+-------------+----------+---------+--------+\n",
      "| M2_RF       |  40079.7 | 220.218 | 14.84  |\n",
      "+-------------+----------+---------+--------+\n",
      "| M3_STACKING |  14860   |  81.649 |  9.036 |\n",
      "+-------------+----------+---------+--------+\n"
     ]
    }
   ],
   "source": [
    "\n",
    "# ------------ Comparing Models\n",
    "from tabulate import tabulate\n",
    "\n",
    "# assign data\n",
    "sse_v=[sse,sse1,sse2]\n",
    "mse_v=[mse,mse1,mse2]\n",
    "rmse_v=[rmse,rmse1,rmse2]\n",
    "Model=[\"M1_LR\",\"M2_RF\",\"M3_STACKING\"]\n",
    "HDR=[\"MODEL\",\"SSE\",\"MSE\",\"RMSE\"]\n",
    "D1=list(zip(Model,sse_v,mse_v,rmse_v))\n",
    "print(tabulate(D1,headers=HDR,tablefmt=\"grid\"))"
   ]
  },
  {
   "cell_type": "markdown",
   "metadata": {},
   "source": [
    "### From above analysis, LInear Regression is the best model performed on data, hence prediction can be taken from linear regression.\n",
    "## plot the best fit line "
   ]
  },
  {
   "cell_type": "code",
   "execution_count": 35,
   "metadata": {},
   "outputs": [
    {
     "data": {
      "text/plain": [
       "<matplotlib.legend.Legend at 0x1512d073460>"
      ]
     },
     "execution_count": 35,
     "metadata": {},
     "output_type": "execute_result"
    },
    {
     "data": {
      "image/png": "[encoded data removed]",
      "text/plain": [
       "<Figure size 640x480 with 1 Axes>"
      ]
     },
     "metadata": {},
     "output_type": "display_data"
    }
   ],
   "source": [
    "sns.regplot(x='actual_amount_paid_LR',y='pred_amount_paid_LR',data=res_LR,marker=',',color='black',label='actual_amount_paid',\n",
    "            line_kws={'color':'red','label':'pred_amount_paid'})\n",
    "plt.title(\"Model_LR\")\n",
    "plt.legend()"
   ]
  },
  {
   "cell_type": "code",
   "execution_count": null,
   "metadata": {},
   "outputs": [],
   "source": []
  }
 ],
 "metadata": {
  "kernelspec": {
   "display_name": "base",
   "language": "python",
   "name": "python3"
  },
  "language_info": {
   "codemirror_mode": {
    "name": "ipython",
    "version": 3
   },
   "file_extension": ".py",
   "mimetype": "text/x-python",
   "name": "python",
   "nbconvert_exporter": "python",
   "pygments_lexer": "ipython3",
   "version": "3.10.9"
  },
  "orig_nbformat": 4
 },
 "nbformat": 4,
 "nbformat_minor": 2
}
